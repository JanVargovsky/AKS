{
 "cells": [
  {
   "cell_type": "code",
   "execution_count": 105,
   "metadata": {},
   "outputs": [],
   "source": [
    "from math import log"
   ]
  },
  {
   "cell_type": "code",
   "execution_count": 1,
   "metadata": {},
   "outputs": [],
   "source": [
    "def load_text(filename):\n",
    "    with open(f\"../Data/{filename}\", 'r', encoding='utf-8-sig') as f:\n",
    "        text = f.read()\n",
    "        return text"
   ]
  },
  {
   "cell_type": "code",
   "execution_count": 2,
   "metadata": {},
   "outputs": [],
   "source": [
    "czech = load_text('czech.txt')\n",
    "english = load_text('english.txt')\n",
    "french = load_text('french.txt')\n",
    "german = load_text('german.txt')\n",
    "hungarian = load_text('hungarian.txt')\n",
    "unknown0 = load_text('unknown0.txt')\n",
    "unknown1 = load_text('unknown1.txt')\n",
    "unknown2 = load_text('unknown2.txt')\n",
    "\n",
    "texts = [\n",
    "    ('Czech', czech),\n",
    "    ('English', english),\n",
    "    ('French', french),\n",
    "    ('German', german),\n",
    "    ('Hungarian', hungarian)\n",
    "]"
   ]
  },
  {
   "cell_type": "code",
   "execution_count": 99,
   "metadata": {},
   "outputs": [],
   "source": [
    "def find_longest_prefix(text, prefix):\n",
    "    while len(prefix) > 0:\n",
    "        #print(f\"prefix={prefix}\")\n",
    "        index = text.rfind(prefix)\n",
    "        if index != -1:\n",
    "            #print(f\"text={text}, prefix={prefix}, index={index}\")\n",
    "            return len(text) - index, len(prefix)\n",
    "        prefix = prefix[:-1]\n",
    "    return 0, 0\n",
    "\n",
    "assert find_longest_prefix('', 'abba') == (0, 0)\n",
    "assert find_longest_prefix('a', 'bbab') == (0, 0)\n",
    "assert find_longest_prefix('ab', 'babb') == (1, 1)\n",
    "assert find_longest_prefix('abba', 'bbba') == (3, 2)\n",
    "assert find_longest_prefix('abbabbb', 'abaa') == (4, 2)"
   ]
  },
  {
   "cell_type": "code",
   "execution_count": 104,
   "metadata": {},
   "outputs": [],
   "source": [
    "def encode_lz77(text, window_size, text_size):\n",
    "    window = \"\"\n",
    "    \n",
    "    while len(text) > 0:\n",
    "        i, l = find_longest_prefix(window, text[:text_size])\n",
    "        c = text[l:l+1]\n",
    "        #print(f\"({i}, {l}, {c})\")\n",
    "        yield i, l, c\n",
    "        if l == 0:\n",
    "            window += text[0]\n",
    "        else:\n",
    "            window += text[:l+1]\n",
    "        window = window[-window_size:]\n",
    "        text = text[l+1:]\n",
    "        #print(f\"{window}|{text}\")\n",
    "\n",
    "#list(encode_lz77('abbabbbabaa', 10, 4))"
   ]
  },
  {
   "cell_type": "code",
   "execution_count": 115,
   "metadata": {},
   "outputs": [
    {
     "name": "stdout",
     "output_type": "stream",
     "text": [
      "Name           Triplets   FileSize   WindowSize  Max.Match   Enc.Size        bps\n",
      "--------------------------------------------------------------------------------\n",
      "Czech             27261     136448         4096         16     654264      4.795\n",
      "Czech             23048     136448        16384         32     622296      4.561\n",
      "Czech             21651     136448        32768         64     627879      4.602\n",
      "--------------------------------------------------------------------------------\n",
      "English           28162     146480         4096         16     675888      4.614\n",
      "English           23503     146480        16384         32     634581      4.332\n",
      "English           21477     146480        32768         64     622833      4.252\n",
      "--------------------------------------------------------------------------------\n",
      "French            26989     143274         4096         16     647736      4.521\n",
      "French            22331     143274        16384         32     602937      4.208\n",
      "French            20841     143274        32768         64     604389      4.218\n",
      "--------------------------------------------------------------------------------\n",
      "German            42759     218751         4096         16    1026216      4.691\n",
      "German            35888     218751        16384         32     968976      4.430\n",
      "German            33506     218751        32768         64     971674      4.442\n",
      "--------------------------------------------------------------------------------\n",
      "Hungarian         42421     194416         4096         16    1018104      5.237\n",
      "Hungarian         35645     194416        16384         32     962415      4.950\n",
      "Hungarian         33278     194416        32768         64     965062      4.964\n"
     ]
    }
   ],
   "source": [
    "print(f\"{'Name':<12} {'Triplets':>10} {'FileSize':>10} {'WindowSize':>12} {'Max.Match':>10} {'Enc.Size':>10} {'bps':>10}\")\n",
    "for name, text in texts:\n",
    "    print('-' * 80)\n",
    "    for window_size, max_match in [(2**12, 16), (2**14, 32), (2**15, 64)]:\n",
    "        triplets = list(encode_lz77(text, window_size, max_match))\n",
    "        size_per_triplet = int(log(window_size, 2) + log(max_match, 2) + 8)\n",
    "        encoded_size = len(triplets) * size_per_triplet\n",
    "        bps = encoded_size / len(text)\n",
    "        print(f\"{name:<12} {len(triplets):>10} {len(text):>10} {window_size:>12} {max_match:>10} {encoded_size:>10} {bps:>10.3f}\")"
   ]
  }
 ],
 "metadata": {
  "kernelspec": {
   "display_name": "Python 3",
   "language": "python",
   "name": "python3"
  },
  "language_info": {
   "codemirror_mode": {
    "name": "ipython",
    "version": 3
   },
   "file_extension": ".py",
   "mimetype": "text/x-python",
   "name": "python",
   "nbconvert_exporter": "python",
   "pygments_lexer": "ipython3",
   "version": "3.6.8"
  }
 },
 "nbformat": 4,
 "nbformat_minor": 2
}
