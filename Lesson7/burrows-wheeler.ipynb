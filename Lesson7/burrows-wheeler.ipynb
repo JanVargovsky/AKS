{
 "cells": [
  {
   "cell_type": "code",
   "execution_count": 74,
   "metadata": {},
   "outputs": [],
   "source": [
    "from functools import cmp_to_key\n",
    "from collections import Counter\n",
    "import math"
   ]
  },
  {
   "cell_type": "code",
   "execution_count": 1,
   "metadata": {},
   "outputs": [],
   "source": [
    "def load_text(filename):\n",
    "    with open(f\"../Data/{filename}\", 'r', encoding='utf-8-sig') as f:\n",
    "        text = f.read()\n",
    "        return text"
   ]
  },
  {
   "cell_type": "code",
   "execution_count": 2,
   "metadata": {},
   "outputs": [],
   "source": [
    "czech = load_text('czech.txt')\n",
    "english = load_text('english.txt')\n",
    "french = load_text('french.txt')\n",
    "german = load_text('german.txt')\n",
    "hungarian = load_text('hungarian.txt')\n",
    "unknown0 = load_text('unknown0.txt')\n",
    "unknown1 = load_text('unknown1.txt')\n",
    "unknown2 = load_text('unknown2.txt')\n",
    "\n",
    "texts = [\n",
    "    ('Czech', czech),\n",
    "    ('English', english),\n",
    "    ('French', french),\n",
    "    ('German', german),\n",
    "    ('Hungarian', hungarian)\n",
    "]"
   ]
  },
  {
   "cell_type": "code",
   "execution_count": 67,
   "metadata": {},
   "outputs": [],
   "source": [
    "def burrows_wheeler(text):\n",
    "    text2 = text + text\n",
    "    n = len(text)\n",
    "    \n",
    "    indices = sorted(range(0, n), key=cmp_to_key(lambda a, b: -1 if text2[a:a+n] < text2[b:b+n] else 1))\n",
    "    #print(indices)\n",
    "    \n",
    "    first = [text2[i] for i in indices]\n",
    "    last = [text2[i-1] for i in indices]\n",
    "    vector = [-1] * n\n",
    "    \n",
    "    freq = Counter(first)\n",
    "    spaces = {}\n",
    "    f = 0\n",
    "    for key in sorted(freq.keys()):\n",
    "        spaces[key] = f\n",
    "        f = f + freq[key]\n",
    "        \n",
    "    for i, item in enumerate(last):\n",
    "        vector[i] = spaces[item]\n",
    "        spaces[item] = spaces[item] + 1\n",
    "    \n",
    "    #print(f\"spaces={spaces}\")\n",
    "    \n",
    "    #print(f\"last={last}\")\n",
    "    #print(f\"first={first}\")\n",
    "    #print(f\"vector={vector}\")\n",
    "    \n",
    "    return last, first, vector, first.index(text[0])\n",
    "\n",
    "text = \"ema ma maso\"\n",
    "last, first, vector, first_index = burrows_wheeler(text)\n",
    "assert last == ['a', 'a', 'm', 'm', 'm', 'o', 'e', ' ', ' ', 's', 'a']\n",
    "assert first == [' ', ' ', 'a', 'a', 'a', 'e', 'm', 'm', 'm', 'o', 's']\n",
    "assert vector == [2, 3, 6, 7, 8, 9, 5, 0, 1, 10, 4]\n",
    "assert first_index == 5"
   ]
  },
  {
   "cell_type": "code",
   "execution_count": 104,
   "metadata": {},
   "outputs": [],
   "source": [
    "def move_to_front(values):\n",
    "    alphabet = list(sorted(set(values)))\n",
    "    result = []\n",
    "    \n",
    "    for item in values:\n",
    "        value = alphabet.index(item)\n",
    "        result.append(value)\n",
    "        \n",
    "        #print(f\"value={item}\")\n",
    "        #print(f\"before = {alphabet}\")\n",
    "        for i in reversed(range(value)):\n",
    "            t = alphabet[i]\n",
    "            alphabet[i] = alphabet[i + 1]\n",
    "            alphabet[i + 1] = t\n",
    "        #print(f\"after = {alphabet}\")\n",
    "    \n",
    "    return result\n",
    "\n",
    "assert move_to_front(\"abcddcbamnopponm\") == [0, 1, 2, 3, 0, 1, 2, 3, 4, 5, 6, 7, 0, 1, 2, 3]"
   ]
  },
  {
   "cell_type": "code",
   "execution_count": 68,
   "metadata": {},
   "outputs": [],
   "source": [
    "def entropy(text):\n",
    "    counter = Counter(text)\n",
    "    n = len(text)\n",
    "    entropy = 0\n",
    "    for char in counter:\n",
    "        pi = counter[char] / n\n",
    "        entropy += pi * math.log(pi, 2)\n",
    "    return -entropy"
   ]
  },
  {
   "cell_type": "code",
   "execution_count": 106,
   "metadata": {},
   "outputs": [
    {
     "name": "stdout",
     "output_type": "stream",
     "text": [
      "File             Before      After\n",
      "Czech             5.068      3.066\n",
      "English           4.650      2.772\n",
      "French            4.908      2.722\n",
      "German            4.726      2.854\n",
      "Hungarian         4.819      3.208\n"
     ]
    }
   ],
   "source": [
    "print(f\"{'File':<12} {'Before':>10} {'After':>10}\")\n",
    "for name, text in texts:\n",
    "      last, first, vector, first_index = burrows_wheeler(text)\n",
    "      encoded = move_to_front(last)\n",
    "      \n",
    "      before = entropy(text)\n",
    "      after = entropy(encoded)\n",
    "      print(f\"{name:<12} {before:>10.3f} {after:>10.3f}\")"
   ]
  }
 ],
 "metadata": {
  "kernelspec": {
   "display_name": "Python 3",
   "language": "python",
   "name": "python3"
  },
  "language_info": {
   "codemirror_mode": {
    "name": "ipython",
    "version": 3
   },
   "file_extension": ".py",
   "mimetype": "text/x-python",
   "name": "python",
   "nbconvert_exporter": "python",
   "pygments_lexer": "ipython3",
   "version": "3.6.8"
  }
 },
 "nbformat": 4,
 "nbformat_minor": 2
}
