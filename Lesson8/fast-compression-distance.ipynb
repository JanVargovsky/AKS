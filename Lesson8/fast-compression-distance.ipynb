{
 "cells": [
  {
   "cell_type": "code",
   "execution_count": 97,
   "metadata": {},
   "outputs": [],
   "source": [
    "def load_text(filename):\n",
    "    with open(f\"../Data/similarity/{filename}\", 'r', encoding='utf-8-sig') as f:\n",
    "        text = f.read()\n",
    "        return text"
   ]
  },
  {
   "cell_type": "code",
   "execution_count": 98,
   "metadata": {},
   "outputs": [],
   "source": [
    "files = [(f\"0{i}0\", load_text(f\"0{i}0.txt\")) for i in range(10)]"
   ]
  },
  {
   "cell_type": "code",
   "execution_count": 99,
   "metadata": {},
   "outputs": [],
   "source": [
    "def lzw(a):\n",
    "    words = a.split()\n",
    "    phrases = set(words)\n",
    "    phrase = \"\"\n",
    "    for item in words:\n",
    "        phrase += item\n",
    "        if phrase not in phrases:\n",
    "            phrases.add(phrase)\n",
    "            phrase = item\n",
    "            #phrase = \"\"\n",
    "    return phrases\n",
    "\n",
    "def fcd(a, b):\n",
    "    x = lzw(a)\n",
    "    y = lzw(b)\n",
    "    \n",
    "    return (len(x) - len(x.intersection(y))) / len(x)"
   ]
  },
  {
   "cell_type": "code",
   "execution_count": 100,
   "metadata": {},
   "outputs": [
    {
     "name": "stdout",
     "output_type": "stream",
     "text": [
      "          000     010     020     030     040     050     060     070     080     090\n",
      "-------------------------------------------------------------------------------------\n",
      "000 |    0.00    0.16    0.31    0.44    0.56    0.65    0.73    0.80    0.89    0.94\n",
      "010 |    0.16    0.00    0.40    0.52    0.61    0.68    0.76    0.82    0.90    0.94\n",
      "020 |    0.32    0.41    0.00    0.58    0.67    0.73    0.79    0.84    0.91    0.95\n",
      "030 |    0.43    0.51    0.57    0.00    0.71    0.76    0.81    0.85    0.91    0.95\n",
      "040 |    0.55    0.61    0.66    0.70    0.00    0.80    0.83    0.88    0.92    0.95\n",
      "050 |    0.64    0.67    0.72    0.76    0.79    0.00    0.86    0.88    0.93    0.95\n",
      "060 |    0.73    0.75    0.78    0.81    0.83    0.86    0.00    0.90    0.93    0.96\n",
      "070 |    0.80    0.82    0.84    0.84    0.88    0.89    0.91    0.00    0.94    0.96\n",
      "080 |    0.88    0.89    0.90    0.90    0.92    0.93    0.93    0.93    0.00    0.97\n",
      "090 |    0.93    0.94    0.94    0.95    0.95    0.95    0.96    0.96    0.97    0.00\n"
     ]
    }
   ],
   "source": [
    "print(f\"{files[0][0]:>13}\", end=\"\")\n",
    "for x_name, _ in files[1:]:\n",
    "    print(f\"{x_name:>8}\", end=\"\")\n",
    "print(\"\")\n",
    "print(\"-\" * 85)\n",
    "\n",
    "for x_name, x in files:\n",
    "    print(f\"{x_name:<4}|\", end=\"\")\n",
    "    for y_name, y in files:\n",
    "        d = fcd(x, y)\n",
    "        print(f\"{d:>8.2f}\", end=\"\")\n",
    "    print()"
   ]
  }
 ],
 "metadata": {
  "kernelspec": {
   "display_name": "",
   "name": ""
  },
  "language_info": {
   "codemirror_mode": {
    "name": "ipython",
    "version": 3
   },
   "file_extension": ".py",
   "mimetype": "text/x-python",
   "name": "python",
   "nbconvert_exporter": "python",
   "pygments_lexer": "ipython3",
   "version": "3.6.8"
  }
 },
 "nbformat": 4,
 "nbformat_minor": 2
}
