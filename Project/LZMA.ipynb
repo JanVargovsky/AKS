{
 "cells": [
  {
   "cell_type": "markdown",
   "metadata": {},
   "source": [
    "# Lempel Ziv Markov Algorithm"
   ]
  },
  {
   "cell_type": "markdown",
   "metadata": {},
   "source": [
    "- lossless compression\n",
    "- dictionary compression (variable up to 4 GB)\n",
    "- improved Deflate algorithm (LZ77 + Huffman)\n",
    "- binary arithmetic coding"
   ]
  },
  {
   "cell_type": "markdown",
   "metadata": {},
   "source": [
    "Materials:\n",
    "- http://mattmahoney.net/dc/dce.html#Section_523\n",
    "- https://www.youtube.com/watch?v=goOa3DGezUA\n",
    "- https://docs.python.org/3/library/lzma.html\n",
    "- https://catchchallenger.first-world.info/wiki/Quick_Benchmark:_Gzip_vs_Bzip2_vs_LZMA_vs_XZ_vs_LZ4_vs_LZO\n",
    "- https://www.maximumcompression.com/data/summary_mf2.php\n",
    "- https://cran.r-project.org/web/packages/brotli/vignettes/brotli-2015-09-22.pdf\n",
    "- https://help.2brightsparks.com/support/solutions/articles/43000335985"
   ]
  },
  {
   "cell_type": "markdown",
   "metadata": {},
   "source": [
    "---"
   ]
  },
  {
   "cell_type": "code",
   "execution_count": 265,
   "metadata": {},
   "outputs": [],
   "source": [
    "import lzma\n",
    "import os\n",
    "import matplotlib.pyplot as plt\n",
    "import zlib\n",
    "import gzip\n",
    "import bz2\n",
    "import zstd\n",
    "import snappy # for windows https://www.lfd.uci.edu/~gohlke/pythonlibs/#python-snappy"
   ]
  },
  {
   "cell_type": "code",
   "execution_count": 109,
   "metadata": {},
   "outputs": [],
   "source": [
    "plt.style.use(\"ggplot\")"
   ]
  },
  {
   "cell_type": "code",
   "execution_count": 11,
   "metadata": {},
   "outputs": [],
   "source": [
    "def load_data(filename):\n",
    "    with open(f\"../Data/{filename}\", 'rb') as f:\n",
    "        return f.read()"
   ]
  },
  {
   "cell_type": "code",
   "execution_count": 87,
   "metadata": {},
   "outputs": [],
   "source": [
    "czech = load_data('czech.txt')\n",
    "english = load_data('english.txt')\n",
    "french = load_data('french.txt')\n",
    "german = load_data('german.txt')\n",
    "hungarian = load_data('hungarian.txt')\n",
    "unknown0 = load_data('unknown0.txt')\n",
    "unknown1 = load_data('unknown1.txt')\n",
    "unknown2 = load_data('unknown2.txt')\n",
    "all = czech + english + french + german + hungarian + unknown0 + unknown1 + unknown2\n",
    "\n",
    "data_files = [\n",
    "    ('Czech', czech),\n",
    "    ('English', english),\n",
    "    ('French', french),\n",
    "    ('German', german),\n",
    "    ('Hungarian', hungarian),\n",
    "    ('Unknown0', unknown0),\n",
    "    ('Unknown1', unknown1),\n",
    "    ('Unknown2', unknown2),\n",
    "    ('All', all),\n",
    "    ('A * 100', b'A' * 100),\n",
    "    ('A * 1000', b'A' * 1000),\n",
    "    ('A * 1000000', b'A' * 1000000),\n",
    "    ('PRG 100', os.urandom(100)),\n",
    "    ('PRG 1000', os.urandom(1000)),\n",
    "    ('PRG 1000000', os.urandom(1000000))\n",
    "]"
   ]
  },
  {
   "cell_type": "markdown",
   "metadata": {},
   "source": [
    "---"
   ]
  },
  {
   "cell_type": "code",
   "execution_count": 117,
   "metadata": {},
   "outputs": [],
   "source": [
    "def run(compress):\n",
    "    print(f\"{'File':<15} {'Original':>10} {'Compressed (default)':>20} {'Compression Ratio':>18} {'Saved space':>15}\")\n",
    "    for name, data in data_files:\n",
    "          original_len = len(data)\n",
    "          compressed = compress(data)\n",
    "          compressed_len = len(compressed)\n",
    "          compression_ratio = original_len / compressed_len\n",
    "          saved_space = 1 - compressed_len / original_len\n",
    "\n",
    "          print(f\"{name:<15} {original_len:>10} {compressed_len:>20} {compression_ratio:>18.3f} {saved_space:>15.3f}\")"
   ]
  },
  {
   "cell_type": "code",
   "execution_count": 131,
   "metadata": {},
   "outputs": [
    {
     "name": "stdout",
     "output_type": "stream",
     "text": [
      "LZMA\n",
      "File              Original Compressed (default)  Compression Ratio     Saved space\n",
      "Czech               150849                51816              2.911           0.657\n",
      "English             150266                49564              3.032           0.670\n",
      "French              150767                48844              3.087           0.676\n",
      "German              232542                77964              2.983           0.665\n",
      "Hungarian           214005                78300              2.733           0.634\n",
      "Unknown0           1276201               418024              3.053           0.672\n",
      "Unknown1            166419                49100              3.389           0.705\n",
      "Unknown2            285797                97412              2.934           0.659\n",
      "All                2626846               826264              3.179           0.685\n",
      "A * 100                100                   68              1.471           0.320\n",
      "A * 1000              1000                   76             13.158           0.924\n",
      "A * 1000000        1000000                  276           3623.188           1.000\n",
      "Random 100             100                  156              0.641          -0.560\n",
      "Random 1000           1000                 1060              0.943          -0.060\n",
      "Random 1000000     1000000              1000108              1.000          -0.000\n",
      "Wall time: 5.14 s\n"
     ]
    }
   ],
   "source": [
    "print(\"LZMA\")\n",
    "%time run(lzma.compress)"
   ]
  },
  {
   "cell_type": "code",
   "execution_count": 139,
   "metadata": {},
   "outputs": [
    {
     "name": "stdout",
     "output_type": "stream",
     "text": [
      "zlib\n",
      "File              Original Compressed (default)  Compression Ratio     Saved space\n",
      "Czech               150849                57058              2.644           0.622\n",
      "English             150266                55481              2.708           0.631\n",
      "French              150767                54807              2.751           0.636\n",
      "German              232542                88254              2.635           0.620\n",
      "Hungarian           214005                87629              2.442           0.591\n",
      "Unknown0           1276201               513212              2.487           0.598\n",
      "Unknown1            166419                55421              3.003           0.667\n",
      "Unknown2            285797               112248              2.546           0.607\n",
      "All                2626846              1020131              2.575           0.612\n",
      "A * 100                100                   12              8.333           0.880\n",
      "A * 1000              1000                   17             58.824           0.983\n",
      "A * 1000000        1000000                  992           1008.065           0.999\n",
      "Random 100             100                  111              0.901          -0.110\n",
      "Random 1000           1000                 1011              0.989          -0.011\n",
      "Random 1000000     1000000              1000316              1.000          -0.000\n",
      "Wall time: 488 ms\n"
     ]
    }
   ],
   "source": [
    "print(\"zlib\")\n",
    "%time run(zlib.compress)"
   ]
  },
  {
   "cell_type": "code",
   "execution_count": 137,
   "metadata": {},
   "outputs": [
    {
     "name": "stdout",
     "output_type": "stream",
     "text": [
      "zlib (fast)\n",
      "File              Original Compressed (default)  Compression Ratio     Saved space\n",
      "Czech               150849                66567              2.266           0.559\n",
      "English             150266                64709              2.322           0.569\n",
      "French              150767                64399              2.341           0.573\n",
      "German              232542               103554              2.246           0.555\n",
      "Hungarian           214005               101619              2.106           0.525\n",
      "Unknown0           1276201               595690              2.142           0.533\n",
      "Unknown1            166419                66677              2.496           0.599\n",
      "Unknown2            285797               132666              2.154           0.536\n",
      "All                2626846              1193440              2.201           0.546\n",
      "A * 100                100                   12              8.333           0.880\n",
      "A * 1000              1000                   19             52.632           0.981\n",
      "A * 1000000        1000000                 4384            228.102           0.996\n",
      "Random 100             100                  111              0.901          -0.110\n",
      "Random 1000           1000                 1011              0.989          -0.011\n",
      "Random 1000000     1000000              1000311              1.000          -0.000\n",
      "Wall time: 147 ms\n"
     ]
    }
   ],
   "source": [
    "print(\"zlib (fast)\")\n",
    "%time run(lambda data: zlib.compress(data, level=1))"
   ]
  },
  {
   "cell_type": "code",
   "execution_count": 138,
   "metadata": {},
   "outputs": [
    {
     "name": "stdout",
     "output_type": "stream",
     "text": [
      "zlib (best)\n",
      "File              Original Compressed (default)  Compression Ratio     Saved space\n",
      "Czech               150849                56962              2.648           0.622\n",
      "English             150266                55229              2.721           0.632\n",
      "French              150767                54666              2.758           0.637\n",
      "German              232542                87754              2.650           0.623\n",
      "Hungarian           214005                87532              2.445           0.591\n",
      "Unknown0           1276201               511553              2.495           0.599\n",
      "Unknown1            166419                55179              3.016           0.668\n",
      "Unknown2            285797               111932              2.553           0.608\n",
      "All                2626846              1016687              2.584           0.613\n",
      "A * 100                100                   12              8.333           0.880\n",
      "A * 1000              1000                   17             58.824           0.983\n",
      "A * 1000000        1000000                  992           1008.065           0.999\n",
      "Random 100             100                  111              0.901          -0.110\n",
      "Random 1000           1000                 1011              0.989          -0.011\n",
      "Random 1000000     1000000              1000316              1.000          -0.000\n",
      "Wall time: 656 ms\n"
     ]
    }
   ],
   "source": [
    "print(\"zlib (best)\")\n",
    "%time run(lambda data: zlib.compress(data, level=9))"
   ]
  },
  {
   "cell_type": "code",
   "execution_count": 129,
   "metadata": {},
   "outputs": [
    {
     "name": "stdout",
     "output_type": "stream",
     "text": [
      "gzip\n",
      "File              Original Compressed (default)  Compression Ratio     Saved space\n",
      "Czech               150849                56974              2.648           0.622\n",
      "English             150266                55241              2.720           0.632\n",
      "French              150767                54678              2.757           0.637\n",
      "German              232542                87766              2.650           0.623\n",
      "Hungarian           214005                87544              2.445           0.591\n",
      "Unknown0           1276201               511565              2.495           0.599\n",
      "Unknown1            166419                55191              3.015           0.668\n",
      "Unknown2            285797               111944              2.553           0.608\n",
      "All                2626846              1016699              2.584           0.613\n",
      "A * 100                100                   24              4.167           0.760\n",
      "A * 1000              1000                   29             34.483           0.971\n",
      "A * 1000000        1000000                 1004            996.016           0.999\n",
      "Random 100             100                  123              0.813          -0.230\n",
      "Random 1000           1000                 1023              0.978          -0.023\n",
      "Random 1000000     1000000              1000328              1.000          -0.000\n",
      "Wall time: 656 ms\n"
     ]
    }
   ],
   "source": [
    "print(\"gzip\")\n",
    "%time run(gzip.compress)"
   ]
  },
  {
   "cell_type": "code",
   "execution_count": 128,
   "metadata": {},
   "outputs": [
    {
     "name": "stdout",
     "output_type": "stream",
     "text": [
      "gzip (fast)\n",
      "File              Original Compressed (default)  Compression Ratio     Saved space\n",
      "Czech               150849                66579              2.266           0.559\n",
      "English             150266                64721              2.322           0.569\n",
      "French              150767                64411              2.341           0.573\n",
      "German              232542               103566              2.245           0.555\n",
      "Hungarian           214005               101631              2.106           0.525\n",
      "Unknown0           1276201               595702              2.142           0.533\n",
      "Unknown1            166419                66689              2.495           0.599\n",
      "Unknown2            285797               132678              2.154           0.536\n",
      "All                2626846              1193452              2.201           0.546\n",
      "A * 100                100                   24              4.167           0.760\n",
      "A * 1000              1000                   31             32.258           0.969\n",
      "A * 1000000        1000000                 4396            227.480           0.996\n",
      "Random 100             100                  123              0.813          -0.230\n",
      "Random 1000           1000                 1023              0.978          -0.023\n",
      "Random 1000000     1000000              1000323              1.000          -0.000\n",
      "Wall time: 156 ms\n"
     ]
    }
   ],
   "source": [
    "print(\"gzip (fast)\")\n",
    "%time run(lambda data: gzip.compress(data, compresslevel=1))"
   ]
  },
  {
   "cell_type": "code",
   "execution_count": 132,
   "metadata": {},
   "outputs": [
    {
     "name": "stdout",
     "output_type": "stream",
     "text": [
      "bzip2\n",
      "File              Original Compressed (default)  Compression Ratio     Saved space\n",
      "Czech               150849                47603              3.169           0.684\n",
      "English             150266                44657              3.365           0.703\n",
      "French              150767                44619              3.379           0.704\n",
      "German              232542                70195              3.313           0.698\n",
      "Hungarian           214005                72192              2.964           0.663\n",
      "Unknown0           1276201               389215              3.279           0.695\n",
      "Unknown1            166419                44486              3.741           0.733\n",
      "Unknown2            285797                87185              3.278           0.695\n",
      "All                2626846               814963              3.223           0.690\n",
      "A * 100                100                   39              2.564           0.610\n",
      "A * 1000              1000                   45             22.222           0.955\n",
      "A * 1000000        1000000                   48          20833.333           1.000\n",
      "Random 100             100                  183              0.546          -0.830\n",
      "Random 1000           1000                 1293              0.773          -0.293\n",
      "Random 1000000     1000000              1004533              0.995          -0.005\n",
      "Wall time: 734 ms\n"
     ]
    }
   ],
   "source": [
    "print(\"bzip2\")\n",
    "%time run(bz2.compress)"
   ]
  },
  {
   "cell_type": "code",
   "execution_count": 133,
   "metadata": {},
   "outputs": [
    {
     "name": "stdout",
     "output_type": "stream",
     "text": [
      "bzip2 (fast)\n",
      "File              Original Compressed (default)  Compression Ratio     Saved space\n",
      "Czech               150849                49399              3.054           0.673\n",
      "English             150266                47600              3.157           0.683\n",
      "French              150767                46969              3.210           0.688\n",
      "German              232542                73836              3.149           0.682\n",
      "Hungarian           214005                75956              2.817           0.645\n",
      "Unknown0           1276201               445229              2.866           0.651\n",
      "Unknown1            166419                46888              3.549           0.718\n",
      "Unknown2            285797                95423              2.995           0.666\n",
      "All                2626846               888711              2.956           0.662\n",
      "A * 100                100                   39              2.564           0.610\n",
      "A * 1000              1000                   45             22.222           0.955\n",
      "A * 1000000        1000000                   48          20833.333           1.000\n",
      "Random 100             100                  183              0.546          -0.830\n",
      "Random 1000           1000                 1293              0.773          -0.293\n",
      "Random 1000000     1000000              1008163              0.992          -0.008\n",
      "Wall time: 686 ms\n"
     ]
    }
   ],
   "source": [
    "print(\"bzip2 (fast)\")\n",
    "%time run(lambda data: bz2.compress(data, compresslevel=1))"
   ]
  },
  {
   "cell_type": "code",
   "execution_count": 233,
   "metadata": {},
   "outputs": [
    {
     "name": "stdout",
     "output_type": "stream",
     "text": [
      "ZSTD\n",
      "File              Original Compressed (default)  Compression Ratio     Saved space\n",
      "Czech               150849                60571              2.490           0.598\n",
      "English             150266                58212              2.581           0.613\n",
      "French              150767                57667              2.614           0.618\n",
      "German              232542                93193              2.495           0.599\n",
      "Hungarian           214005                92754              2.307           0.567\n",
      "Unknown0           1276201               500529              2.550           0.608\n",
      "Unknown1            166419                59494              2.797           0.643\n",
      "Unknown2            285797               113181              2.525           0.604\n",
      "All                2626846               995004              2.640           0.621\n",
      "A * 100                100                   17              5.882           0.830\n",
      "A * 1000              1000                   19             52.632           0.981\n",
      "A * 1000000        1000000                  106           9433.962           1.000\n",
      "Random 100             100                  109              0.917          -0.090\n",
      "Random 1000           1000                 1010              0.990          -0.010\n",
      "Random 1000000     1000000              1000033              1.000          -0.000\n",
      "Wall time: 89.1 ms\n"
     ]
    }
   ],
   "source": [
    "# https://github.com/facebook/zstd\n",
    "print(\"ZSTD\")\n",
    "%time run(zstd.compress)"
   ]
  },
  {
   "cell_type": "code",
   "execution_count": 263,
   "metadata": {},
   "outputs": [
    {
     "name": "stdout",
     "output_type": "stream",
     "text": [
      "ZSTD (ultra-fast)\n",
      "File              Original Compressed (default)  Compression Ratio     Saved space\n",
      "Czech               150849                92756              1.626           0.385\n",
      "English             150266                87487              1.718           0.418\n",
      "French              150767                86815              1.737           0.424\n",
      "German              232542               140817              1.651           0.394\n",
      "Hungarian           214005               146543              1.460           0.315\n",
      "Unknown0           1276201               939331              1.359           0.264\n",
      "Unknown1            166419                86646              1.921           0.479\n",
      "Unknown2            285797               206075              1.387           0.279\n",
      "All                2626846              1845613              1.423           0.297\n",
      "A * 100                100                   17              5.882           0.830\n",
      "A * 1000              1000                   19             52.632           0.981\n",
      "A * 1000000        1000000                  107           9345.794           1.000\n",
      "Random 100             100                  109              0.917          -0.090\n",
      "Random 1000           1000                 1010              0.990          -0.010\n",
      "Random 1000000     1000000              1000034              1.000          -0.000\n",
      "Wall time: 28 ms\n"
     ]
    }
   ],
   "source": [
    "print(\"ZSTD (ultra-fast)\")\n",
    "%time run(lambda data: zstd.compress(data, -5))"
   ]
  },
  {
   "cell_type": "code",
   "execution_count": 240,
   "metadata": {},
   "outputs": [
    {
     "name": "stdout",
     "output_type": "stream",
     "text": [
      "ZSTD (fast)\n",
      "File              Original Compressed (default)  Compression Ratio     Saved space\n",
      "Czech               150849                63332              2.382           0.580\n",
      "English             150266                60001              2.504           0.601\n",
      "French              150767                59852              2.519           0.603\n",
      "German              232542                97649              2.381           0.580\n",
      "Hungarian           214005                97623              2.192           0.544\n",
      "Unknown0           1276201               576045              2.215           0.549\n",
      "Unknown1            166419                61334              2.713           0.631\n",
      "Unknown2            285797               131708              2.170           0.539\n",
      "All                2626846              1147917              2.288           0.563\n",
      "A * 100                100                   17              5.882           0.830\n",
      "A * 1000              1000                   19             52.632           0.981\n",
      "A * 1000000        1000000                  107           9345.794           1.000\n",
      "Random 100             100                  109              0.917          -0.090\n",
      "Random 1000           1000                 1010              0.990          -0.010\n",
      "Random 1000000     1000000              1000034              1.000          -0.000\n",
      "Wall time: 52 ms\n"
     ]
    }
   ],
   "source": [
    "print(\"ZSTD (fast)\")\n",
    "%time run(lambda data: zstd.compress(data, 1))"
   ]
  },
  {
   "cell_type": "code",
   "execution_count": 243,
   "metadata": {},
   "outputs": [
    {
     "name": "stdout",
     "output_type": "stream",
     "text": [
      "ZSTD (best)\n",
      "File              Original Compressed (default)  Compression Ratio     Saved space\n",
      "Czech               150849                53008              2.846           0.649\n",
      "English             150266                50731              2.962           0.662\n",
      "French              150767                50125              3.008           0.668\n",
      "German              232542                79831              2.913           0.657\n",
      "Hungarian           214005                80171              2.669           0.625\n",
      "Unknown0           1276201               422626              3.020           0.669\n",
      "Unknown1            166419                50328              3.307           0.698\n",
      "Unknown2            285797                99514              2.872           0.652\n",
      "All                2626846               842430              3.118           0.679\n",
      "A * 100                100                   16              6.250           0.840\n",
      "A * 1000              1000                   18             55.556           0.982\n",
      "A * 1000000        1000000                   98          10204.082           1.000\n",
      "Random 100             100                  109              0.917          -0.090\n",
      "Random 1000           1000                 1010              0.990          -0.010\n",
      "Random 1000000     1000000              1000033              1.000          -0.000\n",
      "Wall time: 2.61 s\n"
     ]
    }
   ],
   "source": [
    "print(\"ZSTD (best)\")\n",
    "%time run(lambda data: zstd.compress(data, 22))"
   ]
  },
  {
   "cell_type": "code",
   "execution_count": 268,
   "metadata": {},
   "outputs": [
    {
     "name": "stdout",
     "output_type": "stream",
     "text": [
      "snappy\n",
      "File              Original Compressed (default)  Compression Ratio     Saved space\n",
      "Czech               150849                90217              1.672           0.402\n",
      "English             150266                88210              1.704           0.413\n",
      "French              150767                87231              1.728           0.421\n",
      "German              232542               140880              1.651           0.394\n",
      "Hungarian           214005               141767              1.510           0.338\n",
      "Unknown0           1276201               831833              1.534           0.348\n",
      "Unknown1            166419                89570              1.858           0.462\n",
      "Unknown2            285797               183969              1.554           0.356\n",
      "All                2626846              1654425              1.588           0.370\n",
      "A * 100                100                    9             11.111           0.910\n",
      "A * 1000              1000                   52             19.231           0.948\n",
      "A * 1000000        1000000                46910             21.317           0.953\n",
      "Random 100             100                  103              0.971          -0.030\n",
      "Random 1000           1000                 1005              0.995          -0.005\n",
      "Random 1000000     1000000              1000051              1.000          -0.000\n",
      "Wall time: 29 ms\n"
     ]
    }
   ],
   "source": [
    "print(\"snappy\")\n",
    "%time run(snappy.compress)"
   ]
  },
  {
   "cell_type": "code",
   "execution_count": 271,
   "metadata": {},
   "outputs": [],
   "source": [
    "algorithms = [\n",
    "    (\"LZMA\", lzma.compress),\n",
    "    (\"zlib\", zlib.compress),\n",
    "    (\"zlib (fast)\", lambda data: zlib.compress(data, level=1)),\n",
    "    (\"zlib (best)\", lambda data: zlib.compress(data, level=9)),\n",
    "    (\"gzip\", gzip.compress),\n",
    "    (\"gzip (fast)\", lambda data: gzip.compress(data, compresslevel=1)),\n",
    "    (\"bzip2\", bz2.compress),\n",
    "    (\"bzip2 (fast)\", lambda data: bz2.compress(data, compresslevel=1)),\n",
    "    (\"Zstandard\", zstd.compress),\n",
    "    (\"Zstandard (ultra-fast)\", lambda data: zstd.compress(data, -5)),\n",
    "    (\"Zstandard (fast)\", lambda data: zstd.compress(data, 1)),\n",
    "    (\"Zstandard (best)\", lambda data: zstd.compress(data, 22)),\n",
    "    (\"Snappy\", snappy.compress)\n",
    "]\n",
    "\n",
    "results = []\n",
    "for alg_name, alg in algorithms:\n",
    "    items = []\n",
    "    for data_name, data in data_files:\n",
    "        compressed_len = len(alg(data))\n",
    "        compression_ratio = len(data) / compressed_len\n",
    "        items.append(compression_ratio)\n",
    "    results.append(items)"
   ]
  },
  {
   "cell_type": "code",
   "execution_count": 370,
   "metadata": {},
   "outputs": [
    {
     "data": {
      "image/png": "[encoded data removed]",
      "text/plain": [
       "<Figure size 2520x1080 with 1 Axes>"
      ]
     },
     "metadata": {},
     "output_type": "display_data"
    }
   ],
   "source": [
    "plt.figure(figsize=(35, 15))\n",
    "#alg_names = [name for name, _ in algorithms]\n",
    "file_names = [name for name, _ in data_files]\n",
    "x = np.arange(len(file_names))\n",
    "xi = 0.06\n",
    "w = 0.06\n",
    "\n",
    "for i, (alg_name, alg_results) in enumerate(zip(alg_names, results)):\n",
    "    plt.bar(x + i * xi, alg_results, w, label=alg_name)\n",
    "\n",
    "plt.ylim(top=4)\n",
    "plt.legend()\n",
    "plt.xticks(x, file_names, rotation=45)\n",
    "plt.xlabel(\"File\")\n",
    "plt.ylabel(\"Compression ratio\")\n",
    "plt.tight_layout()\n",
    "plt.savefig('compression-ratio.png')\n",
    "plt.show()"
   ]
  },
  {
   "cell_type": "markdown",
   "metadata": {},
   "source": [
    "# Compression speed"
   ]
  },
  {
   "cell_type": "code",
   "execution_count": 322,
   "metadata": {},
   "outputs": [
    {
     "name": "stdout",
     "output_type": "stream",
     "text": [
      "5.35 s ± 126 ms per loop (mean ± std. dev. of 7 runs, 1 loop each)\n",
      "489 ms ± 8.87 ms per loop (mean ± std. dev. of 7 runs, 1 loop each)\n",
      "145 ms ± 1.47 ms per loop (mean ± std. dev. of 7 runs, 10 loops each)\n",
      "653 ms ± 14.4 ms per loop (mean ± std. dev. of 7 runs, 1 loop each)\n",
      "658 ms ± 10.2 ms per loop (mean ± std. dev. of 7 runs, 1 loop each)\n",
      "156 ms ± 1.98 ms per loop (mean ± std. dev. of 7 runs, 10 loops each)\n",
      "719 ms ± 8.61 ms per loop (mean ± std. dev. of 7 runs, 1 loop each)\n",
      "672 ms ± 4.79 ms per loop (mean ± std. dev. of 7 runs, 1 loop each)\n",
      "79.8 ms ± 317 µs per loop (mean ± std. dev. of 7 runs, 10 loops each)\n",
      "25 ms ± 474 µs per loop (mean ± std. dev. of 7 runs, 10 loops each)\n",
      "37.7 ms ± 973 µs per loop (mean ± std. dev. of 7 runs, 10 loops each)\n",
      "2.73 s ± 175 ms per loop (mean ± std. dev. of 7 runs, 1 loop each)\n",
      "27.7 ms ± 834 µs per loop (mean ± std. dev. of 7 runs, 10 loops each)\n"
     ]
    }
   ],
   "source": [
    "algorithms = [\n",
    "    (\"LZMA\", lzma.compress),\n",
    "    (\"zlib\", zlib.compress),\n",
    "    (\"zlib (fast)\", lambda data: zlib.compress(data, level=1)),\n",
    "    (\"zlib (best)\", lambda data: zlib.compress(data, level=9)),\n",
    "    (\"gzip\", gzip.compress),\n",
    "    (\"gzip (fast)\", lambda data: gzip.compress(data, compresslevel=1)),\n",
    "    (\"bzip2\", bz2.compress),\n",
    "    (\"bzip2 (fast)\", lambda data: bz2.compress(data, compresslevel=1)),\n",
    "    (\"Zstandard\", zstd.compress),\n",
    "    (\"Zstandard (ultra-fast)\", lambda data: zstd.compress(data, -5)),\n",
    "    (\"Zstandard (fast)\", lambda data: zstd.compress(data, 1)),\n",
    "    (\"Zstandard (best)\", lambda data: zstd.compress(data, 22)),\n",
    "    (\"Snappy\", snappy.compress)\n",
    "]\n",
    "\n",
    "def run_time(compress):\n",
    "    for name, data in data_files:\n",
    "          compressed = compress(data)\n",
    "\n",
    "times = []\n",
    "for alg_name, alg in algorithms:\n",
    "    t = %timeit -o run_time(alg)\n",
    "    times.append(t)"
   ]
  },
  {
   "cell_type": "code",
   "execution_count": 333,
   "metadata": {},
   "outputs": [
    {
     "name": "stdout",
     "output_type": "stream",
     "text": [
      "Algorithm                    Average [ms]       Std. Dev. [ms]\n",
      "LZMA                             5349.432              126.468\n",
      "zlib                              488.693                8.868\n",
      "zlib (fast)                       145.236                1.473\n",
      "zlib (best)                       653.451               14.362\n",
      "gzip                              658.150               10.156\n",
      "gzip (fast)                       155.738                1.982\n",
      "bzip2                             718.739                8.609\n",
      "bzip2 (fast)                      671.589                4.791\n",
      "Zstandard                          79.788                0.317\n",
      "Zstandard (ultra-fast)             25.011                0.474\n",
      "Zstandard (fast)                   37.728                0.973\n",
      "Zstandard (best)                 2727.590              174.618\n",
      "Snappy                             27.739                0.834\n"
     ]
    }
   ],
   "source": [
    "print(f\"{'Algorithm':<25} {'Average [ms]':>15} {'Std. Dev. [ms]':>20}\")\n",
    "for (alg_name, _), t in zip(algorithms, times):\n",
    "    print(f\"{alg_name:<25} {t.average * 1000:>15.3f} {t.stdev * 1000:>20.3f}\")"
   ]
  },
  {
   "cell_type": "code",
   "execution_count": 369,
   "metadata": {},
   "outputs": [
    {
     "data": {
      "image/png": "[encoded data removed]",
      "text/plain": [
       "<Figure size 1080x504 with 1 Axes>"
      ]
     },
     "metadata": {},
     "output_type": "display_data"
    }
   ],
   "source": [
    "plt.figure(figsize=(15, 7))\n",
    "#alg_names = [name for name, _ in algorithms]\n",
    "x = np.arange(len(alg_names))\n",
    "y = [t.average * 1000 for t in times]\n",
    "\n",
    "plt.bar(x, y)\n",
    "plt.xticks(x, alg_names, rotation=45)\n",
    "plt.xlabel(\"Algorithm\")\n",
    "plt.ylabel(\"Time [ms]\")\n",
    "plt.tight_layout()\n",
    "plt.savefig(\"compression.png\")\n",
    "plt.show()"
   ]
  },
  {
   "cell_type": "markdown",
   "metadata": {},
   "source": [
    "# Decompression speed"
   ]
  },
  {
   "cell_type": "code",
   "execution_count": 351,
   "metadata": {},
   "outputs": [
    {
     "name": "stdout",
     "output_type": "stream",
     "text": [
      "267 ms ± 7.67 ms per loop (mean ± std. dev. of 7 runs, 1 loop each)\n",
      "37.6 ms ± 664 µs per loop (mean ± std. dev. of 7 runs, 10 loops each)\n",
      "36.3 ms ± 984 µs per loop (mean ± std. dev. of 7 runs, 10 loops each)\n",
      "37.4 ms ± 707 µs per loop (mean ± std. dev. of 7 runs, 10 loops each)\n",
      "52.9 ms ± 852 µs per loop (mean ± std. dev. of 7 runs, 10 loops each)\n",
      "51.9 ms ± 1.07 ms per loop (mean ± std. dev. of 7 runs, 10 loops each)\n",
      "378 ms ± 34 ms per loop (mean ± std. dev. of 7 runs, 1 loop each)\n",
      "312 ms ± 9.78 ms per loop (mean ± std. dev. of 7 runs, 1 loop each)\n",
      "20.1 ms ± 582 µs per loop (mean ± std. dev. of 7 runs, 10 loops each)\n",
      "11 ms ± 165 µs per loop (mean ± std. dev. of 7 runs, 100 loops each)\n",
      "15.3 ms ± 189 µs per loop (mean ± std. dev. of 7 runs, 100 loops each)\n",
      "19 ms ± 576 µs per loop (mean ± std. dev. of 7 runs, 100 loops each)\n",
      "10.7 ms ± 218 µs per loop (mean ± std. dev. of 7 runs, 100 loops each)\n"
     ]
    }
   ],
   "source": [
    "algorithms = [\n",
    "    (\"LZMA\", lzma.compress, lzma.decompress),\n",
    "    (\"zlib\", zlib.compress, zlib.decompress),\n",
    "    (\"zlib (fast)\", lambda data: zlib.compress(data, level=1), zlib.decompress),\n",
    "    (\"zlib (best)\", lambda data: zlib.compress(data, level=9), zlib.decompress),\n",
    "    (\"gzip\", gzip.compress, gzip.decompress),\n",
    "    (\"gzip (fast)\", lambda data: gzip.compress(data, compresslevel=1), gzip.decompress),\n",
    "    (\"bzip2\", bz2.compress, bz2.decompress),\n",
    "    (\"bzip2 (fast)\", lambda data: bz2.compress(data, compresslevel=1), bz2.decompress),\n",
    "    (\"Zstandard\", zstd.compress, zstd.decompress),\n",
    "    (\"Zstandard (ultra-fast)\", lambda data: zstd.compress(data, -5), zstd.decompress),\n",
    "    (\"Zstandard (fast)\", lambda data: zstd.compress(data, 1), zstd.decompress),\n",
    "    (\"Zstandard (best)\", lambda data: zstd.compress(data, 22), zstd.decompress),\n",
    "    (\"Snappy\", snappy.compress, snappy.decompress)\n",
    "]\n",
    "\n",
    "def run_time(compressed_data, decompress):\n",
    "    for data in compressed_data:\n",
    "          compressed = decompress(data)\n",
    "\n",
    "decompress_times = []\n",
    "for alg_name, compress, decompress in algorithms:\n",
    "    compressed_data = [compress(data) for name, data in data_files]\n",
    "    \n",
    "    t = %timeit -o run_time(compressed_data, decompress)\n",
    "    decompress_times.append(t)"
   ]
  },
  {
   "cell_type": "code",
   "execution_count": 353,
   "metadata": {},
   "outputs": [
    {
     "name": "stdout",
     "output_type": "stream",
     "text": [
      "Algorithm                    Average [ms]       Std. Dev. [ms]\n",
      "LZMA                              267.036                7.665\n",
      "zlib                               37.637                0.664\n",
      "zlib (fast)                        36.345                0.984\n",
      "zlib (best)                        37.401                0.707\n",
      "gzip                               52.880                0.852\n",
      "gzip (fast)                        51.909                1.072\n",
      "bzip2                             378.147               33.997\n",
      "bzip2 (fast)                      311.932                9.780\n",
      "Zstandard                          20.097                0.582\n",
      "Zstandard (ultra-fast)             11.032                0.165\n",
      "Zstandard (fast)                   15.263                0.189\n",
      "Zstandard (best)                   19.026                0.576\n",
      "Snappy                             10.742                0.218\n"
     ]
    }
   ],
   "source": [
    "print(f\"{'Algorithm':<25} {'Average [ms]':>15} {'Std. Dev. [ms]':>20}\")\n",
    "for (alg_name, _, _), t in zip(algorithms, decompress_times):\n",
    "    print(f\"{alg_name:<25} {t.average * 1000:>15.3f} {t.stdev * 1000:>20.3f}\")"
   ]
  },
  {
   "cell_type": "code",
   "execution_count": 368,
   "metadata": {},
   "outputs": [
    {
     "data": {
      "image/png": "[encoded data removed]",
      "text/plain": [
       "<Figure size 1080x504 with 1 Axes>"
      ]
     },
     "metadata": {},
     "output_type": "display_data"
    }
   ],
   "source": [
    "plt.figure(figsize=(15, 7))\n",
    "#alg_names = [name for name, _, _ in algorithms]\n",
    "x = np.arange(len(alg_names))\n",
    "y = [t.average * 1000 for t in decompress_times]\n",
    "\n",
    "plt.bar(x, y)\n",
    "plt.xticks(x, alg_names, rotation=45)\n",
    "plt.xlabel(\"Algorithm\")\n",
    "plt.ylabel(\"Time [ms]\")\n",
    "plt.tight_layout()\n",
    "plt.savefig(\"decompression.png\")\n",
    "plt.show()"
   ]
  },
  {
   "cell_type": "markdown",
   "metadata": {},
   "source": [
    "---"
   ]
  },
  {
   "cell_type": "code",
   "execution_count": 74,
   "metadata": {},
   "outputs": [
    {
     "data": {
      "text/plain": [
       "2626846"
      ]
     },
     "execution_count": 74,
     "metadata": {},
     "output_type": "execute_result"
    }
   ],
   "source": [
    "len(all)"
   ]
  },
  {
   "cell_type": "code",
   "execution_count": 75,
   "metadata": {},
   "outputs": [
    {
     "data": {
      "text/plain": [
       "826264"
      ]
     },
     "execution_count": 75,
     "metadata": {},
     "output_type": "execute_result"
    }
   ],
   "source": [
    "len(lzma.compress(all, format=lzma.FORMAT_XZ))"
   ]
  },
  {
   "cell_type": "code",
   "execution_count": 76,
   "metadata": {},
   "outputs": [
    {
     "data": {
      "text/plain": [
       "826088"
      ]
     },
     "execution_count": 76,
     "metadata": {},
     "output_type": "execute_result"
    }
   ],
   "source": [
    "len(lzma.compress(all, format=lzma.FORMAT_ALONE))"
   ]
  },
  {
   "cell_type": "code",
   "execution_count": 77,
   "metadata": {},
   "outputs": [
    {
     "data": {
      "text/plain": [
       "826075"
      ]
     },
     "execution_count": 77,
     "metadata": {},
     "output_type": "execute_result"
    }
   ],
   "source": [
    "len(lzma.compress(all, format=lzma.FORMAT_RAW, filters=[{\"id\":lzma.FILTER_LZMA1}]))"
   ]
  },
  {
   "cell_type": "code",
   "execution_count": 78,
   "metadata": {},
   "outputs": [
    {
     "data": {
      "text/plain": [
       "826202"
      ]
     },
     "execution_count": 78,
     "metadata": {},
     "output_type": "execute_result"
    }
   ],
   "source": [
    "len(lzma.compress(all, format=lzma.FORMAT_RAW, filters=[{\"id\":lzma.FILTER_LZMA2}]))"
   ]
  }
 ],
 "metadata": {
  "kernelspec": {
   "display_name": "Python 3",
   "language": "python",
   "name": "python3"
  },
  "language_info": {
   "codemirror_mode": {
    "name": "ipython",
    "version": 3
   },
   "file_extension": ".py",
   "mimetype": "text/x-python",
   "name": "python",
   "nbconvert_exporter": "python",
   "pygments_lexer": "ipython3",
   "version": "3.6.8"
  }
 },
 "nbformat": 4,
 "nbformat_minor": 2
}
