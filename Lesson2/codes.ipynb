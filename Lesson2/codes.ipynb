{
 "cells": [
  {
   "cell_type": "markdown",
   "metadata": {},
   "source": [
    "# Variable-length Codes"
   ]
  },
  {
   "cell_type": "code",
   "execution_count": 1,
   "metadata": {},
   "outputs": [],
   "source": [
    "def load(filename):\n",
    "    with open(f\"../Data/{filename}\") as f:\n",
    "        for line in f:\n",
    "            yield int(line)"
   ]
  },
  {
   "cell_type": "code",
   "execution_count": 3,
   "metadata": {},
   "outputs": [
    {
     "data": {
      "text/plain": [
       "[160, 131, 151, 102, 5, 253, 208, 63, 110, 73]"
      ]
     },
     "execution_count": 3,
     "metadata": {},
     "output_type": "execute_result"
    }
   ],
   "source": [
    "list(load(\"uniform_8.txt\"))[:10]"
   ]
  },
  {
   "cell_type": "code",
   "execution_count": 131,
   "metadata": {},
   "outputs": [],
   "source": [
    "def encode_elias_gamma(number):\n",
    "    binary = bin(number)[2:]\n",
    "    n = len(binary) - 1\n",
    "    return '0' * n + binary\n",
    "    \n",
    "def decode_elias_gamma(input):\n",
    "    n = 0\n",
    "    while input[n] != '1':\n",
    "        n += 1\n",
    "    L = input[n+1:]\n",
    "    if len(L) == 0:\n",
    "        return '1'\n",
    "    return 2 ** n + int(L, 2)\n",
    "\n",
    "fibonacci = []\n",
    "fibonacci = [1, 1]\n",
    "for i in range(2, 75):\n",
    "    fibonacci.append(fibonacci[i-1] + fibonacci[i-2])\n",
    "    \n",
    "def encode_fibonacci(number):\n",
    "    result = \"1\"\n",
    "    i = len(fibonacci) - 1\n",
    "    while fibonacci[i] > number:\n",
    "        i -= 1\n",
    "        \n",
    "    #display([\"i=\", i])\n",
    "    \n",
    "    while i != 0:\n",
    "        if number >= fibonacci[i]:\n",
    "            number -= fibonacci[i]\n",
    "            result = \"1\" + result\n",
    "        else:\n",
    "            result = \"0\" + result\n",
    "        #display([\"number=\", number])\n",
    "        i -= 1\n",
    "    return result\n",
    "\n",
    "def decode_fibonacci(input):\n",
    "    result = 0\n",
    "    for i, c in enumerate(input[:-1]):\n",
    "        if c == '1':\n",
    "            result += fibonacci[i + 1]\n",
    "    return result"
   ]
  },
  {
   "cell_type": "code",
   "execution_count": 108,
   "metadata": {},
   "outputs": [
    {
     "name": "stdout",
     "output_type": "stream",
     "text": [
      "1 = 1 = 1\n",
      "2 = 010 = 2\n",
      "3 = 011 = 3\n",
      "4 = 00100 = 4\n",
      "5 = 00101 = 5\n",
      "6 = 00110 = 6\n",
      "7 = 00111 = 7\n",
      "8 = 0001000 = 8\n",
      "9 = 0001001 = 9\n",
      "10 = 0001010 = 10\n",
      "11 = 0001011 = 11\n",
      "12 = 0001100 = 12\n",
      "13 = 0001101 = 13\n",
      "14 = 0001110 = 14\n",
      "15 = 0001111 = 15\n",
      "16 = 000010000 = 16\n"
     ]
    }
   ],
   "source": [
    "for i in range(1, 17):\n",
    "    encoded = encode_elias_gamma(i)\n",
    "    decoded = decode_elias_gamma(encoded)\n",
    "    print(f\"{i} = {encoded} = {decoded}\")"
   ]
  },
  {
   "cell_type": "code",
   "execution_count": 132,
   "metadata": {},
   "outputs": [
    {
     "name": "stdout",
     "output_type": "stream",
     "text": [
      "1 = 11 = 1\n",
      "2 = 011 = 2\n",
      "3 = 0011 = 3\n",
      "4 = 1011 = 4\n",
      "5 = 00011 = 5\n",
      "6 = 10011 = 6\n",
      "7 = 01011 = 7\n",
      "8 = 000011 = 8\n",
      "9 = 100011 = 9\n",
      "10 = 010011 = 10\n",
      "11 = 001011 = 11\n",
      "12 = 101011 = 12\n",
      "13 = 0000011 = 13\n",
      "14 = 1000011 = 14\n",
      "15 = 0100011 = 15\n",
      "16 = 0010011 = 16\n"
     ]
    }
   ],
   "source": [
    "for i in range(1, 17):\n",
    "    encoded = encode_fibonacci(i)\n",
    "    decoded = decode_fibonacci(encoded)\n",
    "    print(f\"{i} = {encoded} = {decoded}\")"
   ]
  },
  {
   "cell_type": "code",
   "execution_count": 155,
   "metadata": {},
   "outputs": [],
   "source": [
    "def encode_file(filename):\n",
    "    gamma = []\n",
    "    fib = []\n",
    "    for number in load(filename):\n",
    "        gamma.append(encode_elias_gamma(number))\n",
    "        fib.append(encode_fibonacci(number))\n",
    "    \n",
    "    def total_len(values):\n",
    "        return sum(map(lambda x: len(x), values))\n",
    "    \n",
    "    def bits_per_symbol(values):\n",
    "        return total_len(values) / len(values)\n",
    "    \n",
    "    print(filename)\n",
    "    print(f\"Gamma = {total_len(gamma)}, BitsPerSymbol = {bits_per_symbol(gamma)}\")\n",
    "    print(f\"Fibonacci = {total_len(fib)}, BitsPerSymbol = {bits_per_symbol(fib)}\")"
   ]
  },
  {
   "cell_type": "code",
   "execution_count": 156,
   "metadata": {},
   "outputs": [
    {
     "name": "stdout",
     "output_type": "stream",
     "text": [
      "uniform_8.txt\n",
      "Gamma = 856640, BitsPerSymbol = 13.0712890625\n",
      "Fibonacci = 699069, BitsPerSymbol = 10.666946411132812\n",
      "gausian_8.txt\n",
      "Gamma = 917064, BitsPerSymbol = 13.9932861328125\n",
      "Fibonacci = 730716, BitsPerSymbol = 11.14984130859375\n",
      "exponential_8.txt\n",
      "Gamma = 454900, BitsPerSymbol = 6.94122314453125\n",
      "Fibonacci = 404520, BitsPerSymbol = 6.1724853515625\n",
      "uniform_16.txt\n",
      "Gamma = 3800032, BitsPerSymbol = 28.991943359375\n",
      "Fibonacci = 2902780, BitsPerSymbol = 22.146453857421875\n",
      "gausian_16.txt\n",
      "Gamma = 3932248, BitsPerSymbol = 30.00067138671875\n",
      "Fibonacci = 3011773, BitsPerSymbol = 22.978004455566406\n",
      "exponential_16.txt\n",
      "Gamma = 1138872, BitsPerSymbol = 8.68890380859375\n",
      "Fibonacci = 973968, BitsPerSymbol = 7.4307861328125\n"
     ]
    }
   ],
   "source": [
    "files = [\"uniform_8.txt\", \"gausian_8.txt\", \"exponential_8.txt\", \"uniform_16.txt\", \"gausian_16.txt\", \"exponential_16.txt\"]\n",
    "for file in files:\n",
    "    encode_file(file)"
   ]
  }
 ],
 "metadata": {
  "kernelspec": {
   "display_name": "Python 3",
   "language": "python",
   "name": "python3"
  },
  "language_info": {
   "codemirror_mode": {
    "name": "ipython",
    "version": 3
   },
   "file_extension": ".py",
   "mimetype": "text/x-python",
   "name": "python",
   "nbconvert_exporter": "python",
   "pygments_lexer": "ipython3",
   "version": "3.6.8"
  }
 },
 "nbformat": 4,
 "nbformat_minor": 2
}
