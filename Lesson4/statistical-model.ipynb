{
 "cells": [
  {
   "cell_type": "code",
   "execution_count": 33,
   "metadata": {},
   "outputs": [],
   "source": [
    "import math"
   ]
  },
  {
   "cell_type": "code",
   "execution_count": 57,
   "metadata": {},
   "outputs": [],
   "source": [
    "def load_text(filename):\n",
    "    with open(f\"../Data/{filename}\", 'r', encoding='utf-8-sig') as f:\n",
    "        text = f.read()\n",
    "        return text"
   ]
  },
  {
   "cell_type": "code",
   "execution_count": 84,
   "metadata": {},
   "outputs": [],
   "source": [
    "czech = load_text('czech.txt')\n",
    "english = load_text('english.txt')\n",
    "french = load_text('french.txt')\n",
    "german = load_text('german.txt')\n",
    "hungarian = load_text('hungarian.txt')\n",
    "unknown0 = load_text('unknown0.txt')\n",
    "unknown1 = load_text('unknown1.txt')\n",
    "unknown2 = load_text('unknown2.txt')\n",
    "\n",
    "texts = [\n",
    "    ('Czech', czech),\n",
    "    ('English', english),\n",
    "    ('French', french),\n",
    "    ('German', german),\n",
    "    ('Hungarian', hungarian)\n",
    "]"
   ]
  },
  {
   "cell_type": "code",
   "execution_count": 154,
   "metadata": {},
   "outputs": [
    {
     "name": "stdout",
     "output_type": "stream",
     "text": [
      "dict_keys(['a', 'b', 'r', 'c', 'd'])\n",
      "2.0403733936884962\n"
     ]
    }
   ],
   "source": [
    "class Node:\n",
    "    def __init__(self, key):\n",
    "        self.key = key\n",
    "        self.count = 0\n",
    "        self.children = {}\n",
    "        self.parent = None\n",
    "        \n",
    "def create_model(text, k):\n",
    "    root = Node(None)\n",
    "    lists = {}\n",
    "    node_count = 1\n",
    "    for i in range(len(text) - k + 1):\n",
    "        key = text[i:i+k]\n",
    "        #print(f\"{i} = {key}\")\n",
    "        \n",
    "        current = root\n",
    "        current.count += 1\n",
    "        for c in key:\n",
    "            if not c in current.children:\n",
    "                node = Node(c)\n",
    "                node_count += 1\n",
    "                current.children[c] = node\n",
    "                node.parent = current\n",
    "                current = node\n",
    "            else:\n",
    "                current = current.children[c]\n",
    "            \n",
    "            current.count += 1\n",
    "            #print(f\"{c} = {current.count}\")\n",
    "        \n",
    "        lists[key] = current\n",
    "    \n",
    "    return (root, lists, node_count)\n",
    "\n",
    "def model_entropy(model, k, text, lists):\n",
    "    entropy = 0.0\n",
    "    n = len(text) - k + 1\n",
    "    for w, node in lists.items():\n",
    "        p1 = node.count / n\n",
    "        p2 = math.log2(node.count / node.parent.count)\n",
    "        #print(f\"p1={p1:<3.3} p2={p2:<3.3}\")\n",
    "        entropy += (p1 * p2)\n",
    "            \n",
    "    return -entropy\n",
    "\n",
    "k = 1\n",
    "text = 'abracadabra'\n",
    "model, lists, node_count = create_model(text, k)\n",
    "print(lists.keys())\n",
    "entropy = model_entropy(model, k, text, lists)\n",
    "print(entropy)"
   ]
  },
  {
   "cell_type": "code",
   "execution_count": 170,
   "metadata": {},
   "outputs": [
    {
     "name": "stdout",
     "output_type": "stream",
     "text": [
      "File       Order      Count    Entropy\n",
      "Czech        0          111       5.07\n",
      "Czech        1         2231       3.86\n",
      "Czech        2        13956       2.76\n",
      "Czech        3        46551       1.79\n",
      "Czech        4       102990       1.10\n",
      "Czech        5       178579       0.70\n",
      "\n",
      "English      0           88       4.65\n",
      "English      1         1538       3.51\n",
      "English      2         9260       2.50\n",
      "English      3        31302       1.83\n",
      "English      4        73739       1.33\n",
      "English      5       137313       0.96\n",
      "\n",
      "French       0           99       4.91\n",
      "French       1         1714       3.57\n",
      "French       2         9929       2.59\n",
      "French       3        32752       1.82\n",
      "French       4        76061       1.26\n",
      "French       5       140826       0.86\n",
      "\n",
      "German       0           94       4.73\n",
      "German       1         1838       3.53\n",
      "German       2        11864       2.66\n",
      "German       3        42292       1.99\n",
      "German       4       103998       1.45\n",
      "German       5       200037       1.05\n",
      "\n",
      "Hungarian    0          108       4.82\n",
      "Hungarian    1         2170       3.89\n",
      "Hungarian    2        15480       3.04\n",
      "Hungarian    3        56942       2.11\n",
      "Hungarian    4       134771       1.36\n",
      "Hungarian    5       245584       0.86\n",
      "\n"
     ]
    }
   ],
   "source": [
    "print(f\"{'File':<10} {'Order':5} {'Count':>10} {'Entropy':>10}\")\n",
    "for name, text in texts:\n",
    "    for k in [1, 2, 3, 4, 5, 6]:\n",
    "        model, lists, node_count = create_model(text, k)\n",
    "        entropy = model_entropy(model, k, text, lists)\n",
    "        print(f\"{name:<10} {k-1:^5} {node_count:>10} {entropy:>10.2f}\")\n",
    "    print()"
   ]
  }
 ],
 "metadata": {
  "kernelspec": {
   "display_name": "Python 3",
   "language": "python",
   "name": "python3"
  },
  "language_info": {
   "codemirror_mode": {
    "name": "ipython",
    "version": 3
   },
   "file_extension": ".py",
   "mimetype": "text/x-python",
   "name": "python",
   "nbconvert_exporter": "python",
   "pygments_lexer": "ipython3",
   "version": "3.6.8"
  }
 },
 "nbformat": 4,
 "nbformat_minor": 2
}
