{
 "cells": [
  {
   "cell_type": "code",
   "execution_count": 7,
   "metadata": {},
   "outputs": [],
   "source": [
    "from collections import Counter\n",
    "import math"
   ]
  },
  {
   "cell_type": "code",
   "execution_count": 35,
   "metadata": {},
   "outputs": [],
   "source": [
    "def load_text(filename):\n",
    "    with open(f\"../Data/{filename}\", 'r', encoding='utf-8-sig') as f:\n",
    "        text = f.read()\n",
    "        return text"
   ]
  },
  {
   "cell_type": "code",
   "execution_count": 121,
   "metadata": {},
   "outputs": [],
   "source": [
    "def entropy(text):\n",
    "    counter = Counter(text)\n",
    "    n = len(text)\n",
    "    entropy = 0\n",
    "    for char in counter:\n",
    "        pi = counter[char] / n\n",
    "        entropy += pi * math.log(pi, 2)\n",
    "    return -entropy"
   ]
  },
  {
   "cell_type": "code",
   "execution_count": 37,
   "metadata": {},
   "outputs": [
    {
     "data": {
      "text/plain": [
       "5.067659446102941"
      ]
     },
     "execution_count": 37,
     "metadata": {},
     "output_type": "execute_result"
    }
   ],
   "source": [
    "text = load_text(\"czech.txt\")\n",
    "entropy(text)"
   ]
  },
  {
   "cell_type": "code",
   "execution_count": 123,
   "metadata": {},
   "outputs": [],
   "source": [
    "class Node:\n",
    "    def __init__(self, key, probability):\n",
    "        self.key = key\n",
    "        self.probability = probability\n",
    "        self.encoded = \"\"\n",
    "        self.parent = None\n",
    "        self.left = None\n",
    "        self.right = None\n",
    "\n",
    "def encode_huffman(input):\n",
    "    counter = Counter(input)\n",
    "    n = len(input)\n",
    "    #print(counter)\n",
    "    nodes = {}\n",
    "    all_nodes = {}\n",
    "    for key in counter:\n",
    "        counter[key] /= n\n",
    "        node = Node(key, counter[key])\n",
    "        nodes[key] = node\n",
    "        all_nodes[key] = node\n",
    "        \n",
    "    #print(counter)\n",
    "    \n",
    "    # merge all nodes till we find root\n",
    "    while len(counter) >= 2:\n",
    "        a, b = counter.most_common()[-2:]\n",
    "        #print(f\"merge '{a}' with '{b}'\")\n",
    "        del counter[a[0]]\n",
    "        del counter[b[0]]\n",
    "        node = Node(a[0]+b[0], a[1] + b[1])\n",
    "        counter[node.key] = node.probability\n",
    "        nodes[node.key] = node\n",
    "        \n",
    "        node_a = nodes[a[0]]\n",
    "        node_b = nodes[b[0]]\n",
    "        del nodes[a[0]]\n",
    "        del nodes[b[0]]\n",
    "        \n",
    "        node_a.parent = node\n",
    "        node_b.parent = node\n",
    "        \n",
    "        node.left = node_a\n",
    "        node.right = node_b\n",
    "        \n",
    "        #print(counter.most_common())\n",
    "        \n",
    "    #print(\"final\")\n",
    "    #print(counter.most_common())\n",
    "    \n",
    "    def calculate_encoded(node, value):\n",
    "        # leaf\n",
    "        if node.left == None or node.right == None:\n",
    "            node.encoded = value\n",
    "            return\n",
    "        \n",
    "        calculate_encoded(node.left, value + '0')\n",
    "        calculate_encoded(node.right, value + '1')\n",
    "    \n",
    "    root = nodes[counter.most_common()[0][0]]\n",
    "    calculate_encoded(root, \"\")\n",
    "    \n",
    "    #for key, node in all_nodes.items():\n",
    "    #    print(f\"key={key}, encoded={node.encoded}\")\n",
    "    \n",
    "    result = \"\"\n",
    "    for c in input:\n",
    "        result += all_nodes[c].encoded        \n",
    "    return result\n",
    "        \n",
    "#len(encode_huffman(\"factory function for creating tuple subclasses with named fields\"))\n",
    "#len(encode_huffman(load_text(\"czech.txt\")[:100]))"
   ]
  },
  {
   "cell_type": "code",
   "execution_count": 143,
   "metadata": {},
   "outputs": [
    {
     "name": "stdout",
     "output_type": "stream",
     "text": [
      "File = czech.txt       FileSize = 136448     Enc.Size = 695565     Entropy = 5.07      \n",
      "File = german.txt      FileSize = 218751     Enc.Size = 1040648    Entropy = 4.73      \n",
      "File = english.txt     FileSize = 146480     Enc.Size = 684343     Entropy = 4.65      \n",
      "File = french.txt      FileSize = 143274     Enc.Size = 709381     Entropy = 4.91      \n",
      "File = hungarian.txt   FileSize = 194416     Enc.Size = 942106     Entropy = 4.82      \n"
     ]
    }
   ],
   "source": [
    "files = ['czech.txt', 'german.txt', 'english.txt', 'french.txt', 'hungarian.txt']\n",
    "\n",
    "for file in files:\n",
    "    text = load_text(file)\n",
    "    ent = entropy(text)\n",
    "    encoded = encode_huffman(text)\n",
    "    \n",
    "    print(f\"File = {file:<15} FileSize = {len(text):<10} Enc.Size = {len(encoded):<10} Entropy = {ent:<10.2f}\")"
   ]
  }
 ],
 "metadata": {
  "kernelspec": {
   "display_name": "Python 3",
   "language": "python",
   "name": "python3"
  },
  "language_info": {
   "codemirror_mode": {
    "name": "ipython",
    "version": 3
   },
   "file_extension": ".py",
   "mimetype": "text/x-python",
   "name": "python",
   "nbconvert_exporter": "python",
   "pygments_lexer": "ipython3",
   "version": "3.6.8"
  }
 },
 "nbformat": 4,
 "nbformat_minor": 2
}
